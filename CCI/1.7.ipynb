{
 "cells": [
  {
   "cell_type": "code",
   "execution_count": null,
   "metadata": {
    "collapsed": false
   },
   "outputs": [],
   "source": [
    "import numpy as np\n",
    "\n",
    "def rot_90_deg_counter_clockwise(mat):\n",
    "    #Create an matrix with size inverse to that of the input matrix\n",
    "    dim = mat.shape\n",
    "    newmat = np.zeros(dim[::-1])\n",
    "    for x in range(dim[0]):\n",
    "        for y in range(dim[1]):\n",
    "            x_new = dim[1] - 1 - y #-1 to allow use as an index\n",
    "            y_new = x\n",
    "            newmat[x_new, y_new] = mat[x, y]\n",
    "    return newmat\n",
    "\n",
    "mat1 = np.matrix(\n",
    "    [[1, 2, 3, 4],\n",
    "     [5, 6, 7, 8], \n",
    "     [9, 10, 11, 12], \n",
    "     [13, 14, 15, 16]\n",
    "    ])\n",
    "\n",
    "mat2 = np.reshape(np.arange(3*5), (3,5))\n"
   ]
  },
  {
   "cell_type": "code",
   "execution_count": null,
   "metadata": {
    "collapsed": false
   },
   "outputs": [],
   "source": [
    "the_new_mat1 = rot_90_deg_counter_clockwise(mat1)\n",
    "the_new_mat2 = rot_90_deg_counter_clockwise(mat2)\n",
    "print(mat1)\n",
    "print(the_new_mat1)\n",
    "print('\\n\\n')\n",
    "print(mat2)\n",
    "print(the_new_mat2)"
   ]
  },
  {
   "cell_type": "code",
   "execution_count": null,
   "metadata": {
    "collapsed": true
   },
   "outputs": [],
   "source": []
  }
 ],
 "metadata": {
  "kernelspec": {
   "display_name": "Python 3",
   "language": "python",
   "name": "python3"
  },
  "language_info": {
   "codemirror_mode": {
    "name": "ipython",
    "version": 3
   },
   "file_extension": ".py",
   "mimetype": "text/x-python",
   "name": "python",
   "nbconvert_exporter": "python",
   "pygments_lexer": "ipython3",
   "version": "3.6.0"
  }
 },
 "nbformat": 4,
 "nbformat_minor": 2
}
