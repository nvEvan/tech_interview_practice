{
 "cells": [
  {
   "cell_type": "code",
   "execution_count": null,
   "metadata": {
    "collapsed": false
   },
   "outputs": [],
   "source": [
    "import numpy as np\n",
    "\n",
    "mat1 = np.ones((7, 5))\n",
    "mat1[1,1] = 0\n",
    "mat1[2,4] = 0\n",
    "mat1[5,2] = 0\n",
    "mat1[6,0] = 0\n",
    "\n",
    "mat2 = np.ones((3, 3))\n",
    "mat2[0,0] = 0\n",
    "mat2[2,2] = 0"
   ]
  },
  {
   "cell_type": "code",
   "execution_count": null,
   "metadata": {
    "collapsed": true
   },
   "outputs": [],
   "source": [
    "def zero_out(mat):\n",
    "    newmat = np.copy(mat)\n",
    "    for x in range(mat.shape[0]):\n",
    "        for y in range(mat.shape[1]):\n",
    "            if mat[x, y] == 0: \n",
    "                newmat[x,:] = 0\n",
    "                newmat[:,y] = 0\n",
    "#     print(mat)\n",
    "#     print(newmat)\n",
    "    return newmat"
   ]
  },
  {
   "cell_type": "code",
   "execution_count": null,
   "metadata": {
    "collapsed": false
   },
   "outputs": [],
   "source": [
    "print(mat1)\n",
    "print(zero_out(mat1))\n",
    "print('\\n\\n')\n",
    "print(mat2)\n",
    "print(zero_out(mat2))"
   ]
  },
  {
   "cell_type": "code",
   "execution_count": null,
   "metadata": {
    "collapsed": true
   },
   "outputs": [],
   "source": []
  }
 ],
 "metadata": {
  "kernelspec": {
   "display_name": "Python 3",
   "language": "python",
   "name": "python3"
  },
  "language_info": {
   "codemirror_mode": {
    "name": "ipython",
    "version": 3
   },
   "file_extension": ".py",
   "mimetype": "text/x-python",
   "name": "python",
   "nbconvert_exporter": "python",
   "pygments_lexer": "ipython3",
   "version": "3.6.0"
  }
 },
 "nbformat": 4,
 "nbformat_minor": 2
}
