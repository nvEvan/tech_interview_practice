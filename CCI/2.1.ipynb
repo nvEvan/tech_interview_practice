{
 "cells": [
  {
   "cell_type": "code",
   "execution_count": null,
   "metadata": {
    "collapsed": true
   },
   "outputs": [],
   "source": [
    "# def remove_dublicate(L):\n",
    "#     included = []\n",
    "#     for element in L: \n",
    "#         include_flag = True\n",
    "#         for k in included: \n",
    "#             if element == k: \n",
    "#                 include_flag = False\n",
    "#                 break\n",
    "#         if include_flag: \n",
    "#             included.append(element)\n",
    "#     return(included)\n",
    "    \n",
    "def remove_dublicate(L):\n",
    "    hash_table = dict()\n",
    "    new_L = []\n",
    "    print(len(L))\n",
    "    \n",
    "    for index in range(len(L)):\n",
    "        print(index)\n",
    "        the_hash = hash(L[index])\n",
    "        if not the_hash in hash_table.keys():\n",
    "            hash_table[the_hash] = L[index]\n",
    "            new_L.append(L[index])\n",
    "#             del(L[index])\n",
    "    return new_L\n",
    "            \n",
    "        \n",
    "                "
   ]
  },
  {
   "cell_type": "code",
   "execution_count": null,
   "metadata": {
    "collapsed": false
   },
   "outputs": [],
   "source": [
    "L = ['z', 'a', 'a', 'b', 'c', 'd', 'b', 'c', 'c', 'e', 'f', 'g', 'g', 'a']\n",
    "print(L)\n",
    "remove_dublicate(L)"
   ]
  },
  {
   "cell_type": "code",
   "execution_count": null,
   "metadata": {
    "collapsed": false
   },
   "outputs": [],
   "source": [
    "L = ['z', 'a', 'a', 'b', 'c', 'd', 'b', 'c', 'c', 'e', 'f', 'g', 'g', 'a']\n",
    "hash(L[0])"
   ]
  },
  {
   "cell_type": "code",
   "execution_count": null,
   "metadata": {
    "collapsed": false
   },
   "outputs": [],
   "source": [
    "hash(L[1])"
   ]
  },
  {
   "cell_type": "code",
   "execution_count": null,
   "metadata": {
    "collapsed": false
   },
   "outputs": [],
   "source": [
    "hash(L[2])"
   ]
  },
  {
   "cell_type": "code",
   "execution_count": null,
   "metadata": {
    "collapsed": false
   },
   "outputs": [],
   "source": [
    "hash(L[3])"
   ]
  },
  {
   "cell_type": "code",
   "execution_count": null,
   "metadata": {
    "collapsed": true
   },
   "outputs": [],
   "source": [
    "hash_table = dict()\n",
    "hash_table[hash(L[0])] = L[0]"
   ]
  },
  {
   "cell_type": "code",
   "execution_count": null,
   "metadata": {
    "collapsed": false
   },
   "outputs": [],
   "source": [
    "print(hash_table)"
   ]
  },
  {
   "cell_type": "code",
   "execution_count": null,
   "metadata": {
    "collapsed": false
   },
   "outputs": [],
   "source": [
    "print(hash_table[hash(L[0])])\n",
    "print(hash_table[hash(L[1])])"
   ]
  },
  {
   "cell_type": "code",
   "execution_count": null,
   "metadata": {
    "collapsed": false
   },
   "outputs": [],
   "source": [
    "keys = hash_table.keys()\n",
    "print(keys)"
   ]
  },
  {
   "cell_type": "code",
   "execution_count": null,
   "metadata": {
    "collapsed": false
   },
   "outputs": [],
   "source": [
    "hash(L[0]) in keys"
   ]
  },
  {
   "cell_type": "code",
   "execution_count": null,
   "metadata": {
    "collapsed": false
   },
   "outputs": [],
   "source": [
    "hash(L[1]) in keys"
   ]
  },
  {
   "cell_type": "code",
   "execution_count": null,
   "metadata": {
    "collapsed": true
   },
   "outputs": [],
   "source": []
  }
 ],
 "metadata": {
  "kernelspec": {
   "display_name": "Python 3",
   "language": "python",
   "name": "python3"
  },
  "language_info": {
   "codemirror_mode": {
    "name": "ipython",
    "version": 3
   },
   "file_extension": ".py",
   "mimetype": "text/x-python",
   "name": "python",
   "nbconvert_exporter": "python",
   "pygments_lexer": "ipython3",
   "version": "3.6.0"
  }
 },
 "nbformat": 4,
 "nbformat_minor": 2
}
