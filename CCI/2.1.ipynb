{
 "cells": [
  {
   "cell_type": "code",
   "execution_count": null,
   "metadata": {
    "collapsed": true
   },
   "outputs": [],
   "source": [
    "def remove_dublicate(L):\n",
    "    new_L = []\n",
    "    print(len(L))\n",
    "    for index in range(len(L)):\n",
    "        print(index)\n",
    "        if not L[index] in new_L:\n",
    "            new_L.append(L[index])\n",
    "    return new_L       "
   ]
  },
  {
   "cell_type": "code",
   "execution_count": null,
   "metadata": {
    "collapsed": false
   },
   "outputs": [],
   "source": [
    "L = ['z', 'a', 'a', 'b', 'c', 'd', 'b', 'c', 'c', 'e', 'f', 'g', 'g', 'a']\n",
    "print(L)\n",
    "remove_dublicate(L)"
   ]
  },
  {
   "cell_type": "code",
   "execution_count": null,
   "metadata": {
    "collapsed": true
   },
   "outputs": [],
   "source": []
  }
 ],
 "metadata": {
  "kernelspec": {
   "display_name": "Python 3",
   "language": "python",
   "name": "python3"
  },
  "language_info": {
   "codemirror_mode": {
    "name": "ipython",
    "version": 3
   },
   "file_extension": ".py",
   "mimetype": "text/x-python",
   "name": "python",
   "nbconvert_exporter": "python",
   "pygments_lexer": "ipython3",
   "version": "3.6.0"
  }
 },
 "nbformat": 4,
 "nbformat_minor": 2
}
